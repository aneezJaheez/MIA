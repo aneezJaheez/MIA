{
 "cells": [
  {
   "cell_type": "code",
   "execution_count": 1,
   "id": "ad4de0dc",
   "metadata": {},
   "outputs": [],
   "source": [
    "import torch\n",
    "import torchvision.transforms as transforms\n",
    "from torch.utils.data import Dataset\n",
    "\n",
    "import random\n",
    "import os\n",
    "import pickle\n",
    "import numpy as np\n",
    "from PIL import Image"
   ]
  },
  {
   "cell_type": "code",
   "execution_count": 31,
   "id": "61a3ea73",
   "metadata": {},
   "outputs": [],
   "source": [
    "base_folder = \"cifar-10-batches-py\"\n",
    "data_batches = [\n",
    "    \"data_batch_1\",\n",
    "    \"data_batch_2\",\n",
    "    \"data_batch_3\",\n",
    "    \"data_batch_4\",\n",
    "    \"data_batch_5\",\n",
    "]\n",
    "\n",
    "root = \"./\"\n",
    "num_samples = 15000\n",
    "per_class_count = num_samples // 10\n",
    "data = []\n",
    "labels = []\n",
    "\n",
    "for batches in data_batches:\n",
    "    file_path = os.path.join(root, base_folder, batches)\n",
    "    with open(file_path, \"rb\") as infile:\n",
    "        data_entry = pickle.load(infile, encoding=\"latin1\")\n",
    "        data.extend(data_entry[\"data\"])\n",
    "        labels.extend(data_entry[\"labels\"])\n",
    "        \n",
    "data = np.array(data)\n",
    "labels = np.array(labels)\n",
    "\n",
    "victim_data = None\n",
    "victim_label = None\n",
    "shadow_data = None\n",
    "shadow_label = None"
   ]
  },
  {
   "cell_type": "code",
   "execution_count": 32,
   "id": "301ff4f8",
   "metadata": {},
   "outputs": [],
   "source": [
    "#Create a victim split. Store the rest as the shadow model data\n",
    "for i in range(10):\n",
    "    indices = np.where(labels == i)[0]\n",
    "    victim_indices = np.random.choice(indices, per_class_count, replace=False)\n",
    "    shadow_indices = np.setdiff1d(indices, victim_indices)\n",
    "    \n",
    "    \n",
    "    if victim_data is None:\n",
    "        victim_data = data.take(victim_indices, axis = 0)\n",
    "        victim_label = labels.take(victim_indices, axis = 0)\n",
    "    else:\n",
    "        victim_data = np.concatenate([victim_data, data.take(victim_indices, axis=0)], axis = 0)\n",
    "        victim_label = np.concatenate([victim_label, labels.take(victim_indices, axis=0)], axis = 0)\n",
    "    \n",
    "    if shadow_data is None:\n",
    "        shadow_data = data.take(shadow_indices, axis = 0)\n",
    "        shadow_label = labels.take(shadow_indices, axis = 0)\n",
    "    else:\n",
    "        shadow_data = np.concatenate([shadow_data, data.take(shadow_indices, axis=0)], axis = 0)\n",
    "        shadow_label = np.concatenate([shadow_label, labels.take(shadow_indices, axis=0)], axis = 0)\n",
    "        "
   ]
  },
  {
   "cell_type": "code",
   "execution_count": 33,
   "id": "691640bf",
   "metadata": {},
   "outputs": [
    {
     "data": {
      "text/plain": [
       "(15000, 3072)"
      ]
     },
     "execution_count": 33,
     "metadata": {},
     "output_type": "execute_result"
    }
   ],
   "source": [
    "victim_data.shape"
   ]
  },
  {
   "cell_type": "code",
   "execution_count": 36,
   "id": "6597bb82",
   "metadata": {},
   "outputs": [],
   "source": [
    "victim_to_save = {\n",
    "    \"data\" : victim_data, \n",
    "    \"labels\" : victim_label,\n",
    "}\n",
    "\n",
    "shadow_to_save = {\n",
    "    \"data\" : shadow_data, \n",
    "    \"labels\" : shadow_label,\n",
    "}"
   ]
  },
  {
   "cell_type": "code",
   "execution_count": 38,
   "id": "86e9ca6f",
   "metadata": {},
   "outputs": [],
   "source": [
    "with open(\"./cifar-10-batches-py/victim_dataset\", \"wb\") as infile:\n",
    "    pickle.dump(victim_to_save, infile)\n",
    "\n",
    "with open(\"./cifar-10-batches-py/shadow_dataset\", \"wb\") as infile:\n",
    "    pickle.dump(shadow_to_save, infile)"
   ]
  }
 ],
 "metadata": {
  "kernelspec": {
   "display_name": "Python 3",
   "language": "python",
   "name": "python3"
  },
  "language_info": {
   "codemirror_mode": {
    "name": "ipython",
    "version": 3
   },
   "file_extension": ".py",
   "mimetype": "text/x-python",
   "name": "python",
   "nbconvert_exporter": "python",
   "pygments_lexer": "ipython3",
   "version": "3.6.13"
  }
 },
 "nbformat": 4,
 "nbformat_minor": 5
}
