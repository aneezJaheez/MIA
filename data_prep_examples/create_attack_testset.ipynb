{
 "cells": [
  {
   "cell_type": "code",
   "execution_count": 1,
   "source": [
    "import torch\n",
    "import torchvision\n",
    "import pickle\n",
    "\n",
    "from utils.trainer import store_attack_sets\n",
    "from victims.victim_backbones import get_victim_model\n",
    "from datasets import dataset_to_transforms\n",
    "from datasets.make_dataset import Cifar10"
   ],
   "outputs": [],
   "metadata": {}
  },
  {
   "cell_type": "code",
   "execution_count": 2,
   "source": [
    "device = torch.device(\"cuda:0\")\n",
    "model = get_victim_model(\"simplecnn\", num_classes=10, input_features=3, device = device)"
   ],
   "outputs": [],
   "metadata": {}
  },
  {
   "cell_type": "code",
   "execution_count": 3,
   "source": [
    "trainset = Cifar10(root=\"./datasets/cifar-10-batches-py/victim_data/\", model_split=\"victim\", data_split=\"train\", transforms=dataset_to_transforms[\"cifar\"][\"test\"])\n",
    "# trainset = torchvision.datasets.CIFAR10(root=\"./datasets/\", train=True, transform=dataset_to_transforms['cifar']['test'])\n",
    "testset = torchvision.datasets.CIFAR10(root=\"./datasets/\", train=False, transform=dataset_to_transforms['cifar']['test'])"
   ],
   "outputs": [],
   "metadata": {}
  },
  {
   "cell_type": "code",
   "execution_count": 4,
   "source": [
    "trainloader = torch.utils.data.DataLoader(trainset, batch_size=64, shuffle=True)\n",
    "testloader = torch.utils.data.DataLoader(testset, batch_size=64, shuffle=False)"
   ],
   "outputs": [],
   "metadata": {}
  },
  {
   "cell_type": "code",
   "execution_count": 5,
   "source": [
    "store_attack_sets(model, trainloader, testloader, out_dir=\"./\", device=device, num_samples = len(testset))"
   ],
   "outputs": [
    {
     "output_type": "stream",
     "name": "stdout",
     "text": [
      "Saved attack data\n"
     ]
    }
   ],
   "metadata": {}
  },
  {
   "cell_type": "code",
   "execution_count": 8,
   "source": [
    "with open(\"./datasets/cifar-10-batches-py/attack_data/attack_data_test\", \"rb\") as infile:\n",
    "    data = pickle.load(infile, encoding=\"latin1\")"
   ],
   "outputs": [],
   "metadata": {}
  },
  {
   "cell_type": "code",
   "execution_count": 9,
   "source": [
    "data.keys()"
   ],
   "outputs": [
    {
     "output_type": "execute_result",
     "data": {
      "text/plain": [
       "dict_keys([0, 1, 2, 3, 4, 5, 6, 7, 8, 9])"
      ]
     },
     "metadata": {},
     "execution_count": 9
    }
   ],
   "metadata": {}
  },
  {
   "cell_type": "code",
   "execution_count": 10,
   "source": [
    "data[0].keys()"
   ],
   "outputs": [
    {
     "output_type": "execute_result",
     "data": {
      "text/plain": [
       "dict_keys(['data', 'labels'])"
      ]
     },
     "metadata": {},
     "execution_count": 10
    }
   ],
   "metadata": {}
  },
  {
   "cell_type": "code",
   "execution_count": 11,
   "source": [
    "data_0 = data[9]\n",
    "inputs_0 = data_0[\"data\"]\n",
    "print(len(inputs_0))"
   ],
   "outputs": [
    {
     "output_type": "stream",
     "name": "stdout",
     "text": [
      "2008\n"
     ]
    }
   ],
   "metadata": {}
  },
  {
   "cell_type": "code",
   "execution_count": 12,
   "source": [
    "print(len(data_0[\"labels\"]))"
   ],
   "outputs": [
    {
     "output_type": "stream",
     "name": "stdout",
     "text": [
      "2008\n"
     ]
    }
   ],
   "metadata": {}
  },
  {
   "cell_type": "code",
   "execution_count": 13,
   "source": [
    "inputs_0[0]"
   ],
   "outputs": [
    {
     "output_type": "execute_result",
     "data": {
      "text/plain": [
       "tensor([4.8869e-09, 6.0244e-08, 8.8692e-04, 2.1237e-08, 1.7110e-07, 6.2967e-07,\n",
       "        1.5408e-12, 1.5394e-08, 7.2573e-08, 9.9894e-01])"
      ]
     },
     "metadata": {},
     "execution_count": 13
    }
   ],
   "metadata": {}
  }
 ],
 "metadata": {
  "kernelspec": {
   "name": "python3",
   "display_name": "Python 3.8.8 64-bit ('base': conda)"
  },
  "language_info": {
   "codemirror_mode": {
    "name": "ipython",
    "version": 3
   },
   "file_extension": ".py",
   "mimetype": "text/x-python",
   "name": "python",
   "nbconvert_exporter": "python",
   "pygments_lexer": "ipython3",
   "version": "3.8.8"
  },
  "interpreter": {
   "hash": "661b8d210f5b92f2b6c5d655433e2f0efc5d1fa2042eda32e9b767dda37c6d7c"
  }
 },
 "nbformat": 4,
 "nbformat_minor": 5
}